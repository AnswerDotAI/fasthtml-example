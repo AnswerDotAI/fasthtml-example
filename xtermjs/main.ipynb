{
 "cells": [
  {
   "cell_type": "code",
   "execution_count": 1,
   "metadata": {},
   "outputs": [],
   "source": [
    "from fasthtml.common import *\n",
    "from monsterui.all import *\n",
    "\n",
    "import os, pty, tty, fcntl, termios, select, threading, asyncio"
   ]
  },
  {
   "cell_type": "code",
   "execution_count": 2,
   "metadata": {},
   "outputs": [],
   "source": [
    "from fasthtml.jupyter import *"
   ]
  },
  {
   "cell_type": "code",
   "execution_count": 3,
   "metadata": {},
   "outputs": [],
   "source": [
    "hdrs = (\n",
    "        Theme.blue.headers(),                 # MonsterUI theme\n",
    "        Script(src=\"/static/node_modules/@xterm/xterm/lib/xterm.js\", type=\"module\"),    # xterm glue code\n",
    "        Script(src=\"/static/terminal.js\", type=\"module\"),    # xterm glue code\n",
    "        Link(rel=\"stylesheet\", href=\"/static/node_modules/@xterm/xterm/css/xterm.css\")\n",
    ")\n",
    "app, rt = fast_app(hdrs=hdrs,routes=(Mount('/static', StaticFiles(directory=f'./static')),))"
   ]
  },
  {
   "cell_type": "code",
   "execution_count": 4,
   "metadata": {},
   "outputs": [
    {
     "data": {
      "text/html": [
       "\n",
       "<script>\n",
       "document.body.addEventListener('htmx:configRequest', (event) => {\n",
       "    if(event.detail.path.includes('://')) return;\n",
       "    htmx.config.selfRequestsOnly=false;\n",
       "    event.detail.path = `${location.protocol}//${location.hostname}:8000${event.detail.path}`;\n",
       "});\n",
       "</script>"
      ],
      "text/plain": [
       "<IPython.core.display.HTML object>"
      ]
     },
     "metadata": {},
     "output_type": "display_data"
    },
    {
     "name": "stdout",
     "output_type": "stream",
     "text": [
      "Sending: \n",
      "The default interactive shell is now zsh.\n",
      "To update your account to use zsh, please run `chsh -s /bin/zsh`.\n",
      "For more details, please visit https://support.apple.com/kb/HT208050.\n",
      "(uvws) (uvws) ls\n",
      "main.ipynb        package.json      test.txt\n",
      "package-lock.json \u001b[34mstatic\u001b[m\u001b[m\n",
      "(uvws) (uvws) Received message: l\n",
      "Received message: s\n",
      "Received message: \n",
      "Sending: \n",
      "Sending: main.ipynb        package.json      test.txt\n",
      "package-lock.json \u001b[34mstatic\u001b[m\u001b[m\n",
      "Sending: (uvws) (uvws) Received message: \n",
      "Sending: \n",
      "Sending: (uvws) (uvws) Received message: Terminal Demo\n",
      "Sending: Terminal Demo\n",
      "Sending: bash: Terminal: command not found\n",
      "Sending: (uvws) (uvws) Received message: Terminal Demo\n",
      "Sending: Terminal Demo\n",
      "Sending: bash: Terminal: command not found\n",
      "Sending: (uvws) (uvws) Received message: \n",
      "Sending: (uvws) (uvws) Sending: \n",
      "Received message: \n",
      "Sending: \n",
      "Sending: (uvws) (uvws) Received message: (uvws) (uvws) (uvws) (uvws) \n",
      "Sending: (uvws) (uvws) (uvws) (uvws) Received message: \n",
      "Sending: bash: syntax error near unexpected token `('\n",
      "(uvws) (uvws) Sending: \n",
      "Received message: l\n",
      "Received message: s\n",
      "Received message: \n",
      "Sending: \n",
      "Sending:Sending: main.ipynb        package.json      test.txt\n",
      " package-lock.json \u001b[34mstatic\u001b[m\u001b[m\n",
      "Sending: (uvws) (uvws) Received message: l\n",
      "Received message: s\n",
      "Received message: \n",
      "Sending: \n",
      "Sending:Sending: package-lock.json \u001b[34mstatic\u001b[m\u001b[m\n",
      " main.ipynb        package.json      test.txt\n",
      "Sending: (uvws) (uvws) Received message: p\n",
      "Received message: w\n",
      "Received message: d\n",
      "Received message: \n",
      "Sending: \n",
      "/Users/nathan/aai-ws/fasthtml-example/xtermjs\n",
      "Sending: (uvws) (uvws) Received message: \n",
      "Sending: \n",
      "Sending: (uvws) (uvws) Received message: \n",
      "Sending: \n",
      "Sending: (uvws) (uvws) Received message: \n",
      "Sending: \n",
      "(uvws) (uvws) Received message: \n",
      "Sending: \n",
      "Sending: (uvws) (uvws) Received message: \n",
      "Sending: \n",
      "Sending: (uvws) (uvws) Received message: \n",
      "Sending: \n",
      "Sending: (uvws) (uvws) Received message: \n",
      "Sending: \n",
      "Sending: (uvws) (uvws) Received message: \n",
      "Sending: \n",
      "(uvws) (uvws) Received message: \n",
      "Sending: \n",
      "Sending: (uvws) (uvws) Received message: \n",
      "Sending: \n",
      "Sending: (uvws) (uvws) Received message: p\n",
      "Received message: w\n",
      "Received message: d\n",
      "Received message: \n",
      "Sending: (uvws) (uvws) Sending: \n",
      "/Users/nathan/aai-ws/fasthtml-example/xtermjs\n",
      "Received message: l\n",
      "Received message: s\n",
      "Received message: \n",
      "Sending: \n",
      "Sending:Sending: package-lock.json \u001b[34mstatic\u001b[m\u001b[m\n",
      " main.ipynb        package.json      test.txt\n",
      "Sending: (uvws) (uvws) Received message: l\n",
      "Received message: s\n",
      "Received message: \n",
      "Sending: \n",
      "Sending:Sending: package-lock.json \u001b[34mstatic\u001b[m\u001b[m\n",
      " main.ipynb        package.json      test.txt\n",
      "Sending: (uvws) (uvws) Received message: l\n",
      "Received message: s\n",
      "Received message: \n",
      "Sending: \n",
      "Sending:Sending: package-lock.json \u001b[34mstatic\u001b[m\u001b[m\n",
      " main.ipynb        package.json      test.txt\n",
      "Sending: (uvws) (uvws) Received message: k\n",
      "Received message: s\n",
      "Received message: \n",
      "Sending: \n",
      "Sending: bash: ks: command not found\n",
      "Sending: (uvws) (uvws) "
     ]
    },
    {
     "name": "stderr",
     "output_type": "stream",
     "text": [
      "Exception in thread Thread-6 (read_thread):\n",
      "Traceback (most recent call last):\n",
      "  File \"/Users/nathan/.local/share/uv/python/cpython-3.12.8-macos-aarch64-none/lib/python3.12/threading.py\", line 1075, in _bootstrap_inner\n",
      "    self.run()\n",
      "  File \"/Users/nathan/aai-ws/.venv/lib/python3.12/site-packages/ipykernel/ipkernel.py\", line 766, in run_closure\n",
      "    _threading_Thread_run(self)\n",
      "  File \"/Users/nathan/.local/share/uv/python/cpython-3.12.8-macos-aarch64-none/lib/python3.12/threading.py\", line 1012, in run\n",
      "    self._target(*self._args, **self._kwargs)\n",
      "  File \"/var/folders/5f/gb9vtfjd68q8pwth3s3t67rr0000gn/T/ipykernel_39769/1160411317.py\", line 4, in read_thread\n",
      "  File \"/Users/nathan/.local/share/uv/python/cpython-3.12.8-macos-aarch64-none/lib/python3.12/asyncio/base_events.py\", line 686, in run_until_complete\n",
      "    return future.result()\n",
      "           ^^^^^^^^^^^^^^^\n",
      "  File \"/var/folders/5f/gb9vtfjd68q8pwth3s3t67rr0000gn/T/ipykernel_39769/2349332962.py\", line 10, in _read\n",
      "  File \"/Users/nathan/aai-ws/fasthtml/fasthtml/core.py\", line 260, in _send_ws\n",
      "    await ws.send_text(res)\n",
      "  File \"/Users/nathan/aai-ws/.venv/lib/python3.12/site-packages/starlette/websockets.py\", line 165, in send_text\n",
      "    await self.send({\"type\": \"websocket.send\", \"text\": data})\n",
      "  File \"/Users/nathan/aai-ws/.venv/lib/python3.12/site-packages/starlette/websockets.py\", line 85, in send\n",
      "    await self._send(message)\n",
      "  File \"/Users/nathan/aai-ws/.venv/lib/python3.12/site-packages/starlette/_exception_handler.py\", line 39, in sender\n",
      "    await send(message)\n",
      "  File \"/Users/nathan/aai-ws/.venv/lib/python3.12/site-packages/starlette/middleware/sessions.py\", line 83, in send_wrapper\n",
      "    await send(message)\n",
      "  File \"/Users/nathan/aai-ws/.venv/lib/python3.12/site-packages/uvicorn/protocols/websockets/websockets_impl.py\", line 359, in asgi_send\n",
      "    raise RuntimeError(msg % message_type)\n",
      "RuntimeError: Unexpected ASGI message 'websocket.send', after sending 'websocket.close' or response already completed.\n"
     ]
    },
    {
     "name": "stdout",
     "output_type": "stream",
     "text": [
      "Received message: l\n",
      "Received message: s\n",
      "Received message: \n",
      "Sending: \n",
      "Sending: main.ipynb        package.json      test.txt\n",
      "package-lock.json \u001b[34mstatic\u001b[m\u001b[m\n",
      "Sending: (uvws) (uvws) Received message: l\n",
      "Received message: s\n",
      "Received message: \n",
      "Sending: \n",
      "Sending:Sending: package-lock.json \u001b[34mstatic\u001b[m\u001b[m\n",
      " main.ipynb        package.json      test.txt\n",
      "Sending: (uvws) (uvws) Received message: c\n",
      "Received message: a\n",
      "Received message: t\n",
      "Received message:  \n",
      "Received message: p\n",
      "Received message: a\n",
      "Received message: k\n",
      "Received message: \n",
      "Sending:\u001b[KReceived message: c\n",
      "Received message: k\n",
      "Received message: \n",
      "Sending:\u001b[KReceived message: \n",
      "Sending:\u001b[KReceived message: \n",
      "Sending:\u001b[KReceived message: \n",
      "Sending:\u001b[KReceived message: \n",
      "Sending:\u001b[KReceived message: \n",
      "Sending:\u001b[KReceived message: \n",
      "Sending:\u001b[KReceived message: \n",
      "Sending: \n",
      "Sending: bash: c: command not found\n",
      "Sending: (uvws) (uvws) Received message: c\n",
      "Received message: a\n",
      "Received message: t\n",
      "Received message:  \n",
      "Received message: p\n",
      "Received message: a\n",
      "Received message: c\n",
      "Received message: k\n",
      "Received message: a\n",
      "Received message: g\n",
      "Received message: e\n",
      "Received message: -\n",
      "Received message: l\n",
      "Received message: o\n",
      "Received message: c\n",
      "Received message: k\n",
      "Received message: .\n",
      "Received message: j\n",
      "Received message: s\n",
      "Received message: o\n",
      "Received message: n\n",
      "Received message: \n",
      "Sending: \n",
      "Sending:Sending: 0.tgz\",\n",
      "      \"integrity\": \"sha512-8QqjlekLUFTrU6x7xck1MsPzPA571K5zNqWm0M0oroYEWVOptZ0+ubQSkQ3uxIEhcIHRujJy6emDWX4A7qyFzg==\",\n",
      "      \"deprecated\": \"This package is now deprecated. Move to @xterm/xterm instead.\",\n",
      "      \"license\": \"MIT\"\n",
      "    }\n",
      "  }\n",
      "}\n",
      " {\n",
      "  \"name\": \"xtermjs\",\n",
      "  \"lockfileVersion\": 3,\n",
      "  \"requires\": true,\n",
      "  \"packages\": {\n",
      "    \"\": {\n",
      "      \"dependencies\": {\n",
      "        \"@xterm/addon-fit\": \"^0.10.0\",\n",
      "        \"xterm\": \"^5.3.0\"\n",
      "      }\n",
      "    },\n",
      "    \"node_modules/@xterm/addon-fit\": {\n",
      "      \"version\": \"0.10.0\",\n",
      "      \"resolved\": \"https://registry.npmjs.org/@xterm/addon-fit/-/addon-fit-0.10.0.tgz\",\n",
      "      \"integrity\": \"sha512-UFYkDm4HUahf2lnEyHvio51TNGiLK66mqP2JoATy7hRZeXaGMRDr00JiSF7m63vR5WKATF605yEggJKsw0JpMQ==\",\n",
      "      \"license\": \"MIT\",\n",
      "      \"peerDependencies\": {\n",
      "        \"@xterm/xterm\": \"^5.0.0\"\n",
      "      }\n",
      "    },\n",
      "    \"node_modules/@xterm/xterm\": {\n",
      "      \"version\": \"5.5.0\",\n",
      "      \"resolved\": \"https://registry.npmjs.org/@xterm/xterm/-/xterm-5.5.0.tgz\",\n",
      "      \"integrity\": \"sha512-hqJHYaQb5OptNunnyAnkHyM8aCjZ1MEIDTQu1iIbbTD/xops91NB5yq1ZK/dC2JDbVWtF23zUtl9JE2NqwT87A==\",\n",
      "      \"license\": \"MIT\",\n",
      "      \"peer\": true\n",
      "    },\n",
      "    \"node_modules/xterm\": {\n",
      "      \"version\": \"5.3.0\",\n",
      "      \"resolved\": \"https://registry.npmjs.org/xterm/-/xterm-5.3.Sending: (uvws) (uvws) Received message: l\n",
      "Received message: s\n",
      "Received message: s\n",
      "Received message: \n",
      "Sending: \n",
      "Sending: bash: lss: command not found\n",
      "Sending: (uvws) (uvws) "
     ]
    }
   ],
   "source": [
    "if 'server' in globals(): server.stop()\n",
    "server = JupyUvi(app)\n",
    "Show = partial(HTMX, app=app)"
   ]
  },
  {
   "cell_type": "code",
   "execution_count": 5,
   "metadata": {},
   "outputs": [],
   "source": [
    "import os,pty,select\n",
    "from threading import Thread"
   ]
  },
  {
   "cell_type": "code",
   "execution_count": 6,
   "metadata": {},
   "outputs": [],
   "source": [
    "def spawn_shell():\n",
    "    pid, master_fd = pty.fork()\n",
    "    if pid == 0:               # child\n",
    "        os.execvp(os.environ.get(\"SHELL\", \"/bin/bash\"), [\"bash\"])\n",
    "    # set master fd non‑blocking\n",
    "    # flags = fcntl.fcntl(master_fd, fcntl.F_GETFL)\n",
    "    # fcntl.fcntl(master_fd, fcntl.F_SETFL, flags | os.O_NONBLOCK)\n",
    "    return master_fd"
   ]
  },
  {
   "cell_type": "code",
   "execution_count": 7,
   "metadata": {},
   "outputs": [],
   "source": [
    "fd = spawn_shell()"
   ]
  },
  {
   "cell_type": "code",
   "execution_count": 8,
   "metadata": {},
   "outputs": [],
   "source": [
    "async def _read(fd, send=None): \n",
    "    \"Read from PTY and print output\"\n",
    "    while True:\n",
    "        try:\n",
    "            r,_,_ = select.select([fd], [], [], 0.1)\n",
    "            if r:\n",
    "                d = os.read(fd, 1024).decode()\n",
    "                if len(d) > 1:\n",
    "                    print('Sending:', d, end='', flush=True)\n",
    "                    if send: await send(d)\n",
    "                # await send(d)\n",
    "        except OSError: break"
   ]
  },
  {
   "cell_type": "code",
   "execution_count": 9,
   "metadata": {},
   "outputs": [],
   "source": [
    "def read_thread(fd, send=None):\n",
    "    loop = asyncio.new_event_loop()\n",
    "    asyncio.set_event_loop(loop)\n",
    "    loop.run_until_complete(_read(fd, send))\n",
    "    loop.close()\n",
    "\n",
    "# Start the thread"
   ]
  },
  {
   "cell_type": "code",
   "execution_count": 10,
   "metadata": {},
   "outputs": [
    {
     "data": {
      "text/plain": [
       "3"
      ]
     },
     "execution_count": 10,
     "metadata": {},
     "output_type": "execute_result"
    }
   ],
   "source": [
    "os.write(fd, b'ls\\n')"
   ]
  },
  {
   "cell_type": "code",
   "execution_count": 11,
   "metadata": {},
   "outputs": [],
   "source": [
    "async def on_conn(send):\n",
    "    thread = Thread(target=read_thread, args=(fd, send))\n",
    "    thread.daemon = True  # Make the thread daemon so it exits when the main program exits\n",
    "    thread.start()\n",
    "    await send('Hello, user!')"
   ]
  },
  {
   "cell_type": "code",
   "execution_count": 12,
   "metadata": {},
   "outputs": [],
   "source": [
    "async def on_disconn(*args): ...\n",
    "    # if hasattr(on_message, 'reader_task'):\n",
    "    #     on_message.reader_task.cancel()\n",
    "    # if hasattr(on_message, 'fd'):\n",
    "    #     os.close(on_message.fd)"
   ]
  },
  {
   "cell_type": "code",
   "execution_count": 13,
   "metadata": {},
   "outputs": [],
   "source": [
    "@app.ws('/ws', conn=on_conn, disconn=on_disconn)\n",
    "async def on_message(msg: str, send):\n",
    "    # Write incoming message to existing PTY\n",
    "    print(f\"Received message: {msg}\")\n",
    "    os.write(fd, msg.encode())\n",
    "\n",
    "    # Optionally, you might want to await a short sleep to allow read operations to occur\n",
    "    await asyncio.sleep(0.1)"
   ]
  },
  {
   "cell_type": "code",
   "execution_count": 14,
   "metadata": {},
   "outputs": [],
   "source": [
    "@rt\n",
    "def index():\n",
    "    card = Card(\n",
    "        Div(id='terminal', cls=\"w-full h-[600px] bg-black text-white\"),\n",
    "        header=H4(\"Web Terminal\"),\n",
    "        cls=\"mt-6\")\n",
    "    return Titled(\"Terminal Demo\", card)"
   ]
  },
  {
   "cell_type": "code",
   "execution_count": 15,
   "metadata": {},
   "outputs": [
    {
     "data": {
      "text/html": [
       "<a href=\"http://localhost:8000/_fIWLp9JDRQGVP_7vGOhjsw\" target=\"_blank\">Open in new tab</a>"
      ],
      "text/plain": [
       "<IPython.core.display.HTML object>"
      ]
     },
     "metadata": {},
     "output_type": "display_data"
    },
    {
     "data": {
      "text/html": [
       "<iframe src=\"http://localhost:8000/_fIWLp9JDRQGVP_7vGOhjsw\" style=\"width: 100%; height: auto; border: none;\" onload=\"{\n",
       "        let frame = this;\n",
       "        window.addEventListener('message', function(e) {\n",
       "            if (e.source !== frame.contentWindow) return; // Only proceed if the message is from this iframe\n",
       "            if (e.data.height) frame.style.height = (e.data.height+1) + 'px';\n",
       "        }, false);\n",
       "    }\" allow=\"accelerometer; autoplay; camera; clipboard-read; clipboard-write; display-capture; encrypted-media; fullscreen; gamepad; geolocation; gyroscope; hid; identity-credentials-get; idle-detection; magnetometer; microphone; midi; payment; picture-in-picture; publickey-credentials-get; screen-wake-lock; serial; usb; web-share; xr-spatial-tracking\"></iframe> "
      ],
      "text/plain": [
       "<IPython.core.display.HTML object>"
      ]
     },
     "execution_count": 15,
     "metadata": {},
     "output_type": "execute_result"
    }
   ],
   "source": [
    "Show(index(), link=True)"
   ]
  },
  {
   "cell_type": "code",
   "execution_count": 5,
   "metadata": {},
   "outputs": [],
   "source": [
    "def qshow(*c, height='auto'):\n",
    "    \"Quick show\"\n",
    "    doc = Html(Head(*hdrs), Body(*c))\n",
    "    show(doc, iframe=True, height=height)"
   ]
  },
  {
   "cell_type": "code",
   "execution_count": null,
   "metadata": {},
   "outputs": [],
   "source": []
  }
 ],
 "metadata": {
  "kernelspec": {
   "display_name": ".venv",
   "language": "python",
   "name": "python3"
  },
  "language_info": {
   "codemirror_mode": {
    "name": "ipython",
    "version": 3
   },
   "file_extension": ".py",
   "mimetype": "text/x-python",
   "name": "python",
   "nbconvert_exporter": "python",
   "pygments_lexer": "ipython3",
   "version": "3.12.8"
  }
 },
 "nbformat": 4,
 "nbformat_minor": 2
}
