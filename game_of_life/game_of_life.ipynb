{
 "cells": [
  {
   "cell_type": "markdown",
   "metadata": {},
   "source": [
    "# Game of Life"
   ]
  },
  {
   "cell_type": "code",
   "execution_count": null,
   "metadata": {},
   "outputs": [],
   "source": [
    "#| default_exp game_of_life"
   ]
  },
  {
   "cell_type": "code",
   "execution_count": 1,
   "metadata": {},
   "outputs": [],
   "source": [
    "#| export\n",
    "from fasthtml import *\n",
    "\n",
    "css = Style(\n",
    "    '#grid { display: grid; grid-template-columns: repeat(20, 20px); grid-template-rows: repeat(20, 20px);gap: 1px; }',\n",
    "    '.cell { width: 20px; height: 20px; border: 1px solid black; }',\n",
    "    '.alive { background-color: green; }',\n",
    "    '.dead { background-color: white; }'\n",
    ")\n",
    "\n",
    "# Flexbox CSS (http://flexboxgrid.com/)\n",
    "gridlink = Link(rel=\"stylesheet\", href=\"https://cdnjs.cloudflare.com/ajax/libs/flexboxgrid/6.3.1/flexboxgrid.min.css\", type=\"text/css\")\n",
    "\n",
    "app = FastHTML(hdrs=(picolink, gridlink, css))\n",
    "rt = app.route"
   ]
  },
  {
   "cell_type": "code",
   "execution_count": 3,
   "metadata": {},
   "outputs": [],
   "source": [
    "#| export\n",
    "grid = [[0 for _ in range(20)] for _ in range(20)]\n",
    "\n",
    "def update_grid(grid: List[List[int]]) -> List[List[int]]:\n",
    "    new_grid = [[0 for _ in range(20)] for _ in range(20)]\n",
    "\n",
    "    def count_neighbors(x, y):\n",
    "        directions = [(-1, -1), (-1, 0), (-1, 1), (0, -1), (0, 1), (1, -1), (1, 0), (1, 1)]\n",
    "        count = 0\n",
    "        for dx, dy in directions:\n",
    "            nx, ny = x + dx, y + dy\n",
    "            if 0 <= nx < len(grid) and 0 <= ny < len(grid[0]):\n",
    "                count += grid[nx][ny]\n",
    "        return count\n",
    "\n",
    "    for i in range(len(grid)):\n",
    "        for j in range(len(grid[0])):\n",
    "            neighbors = count_neighbors(i, j)\n",
    "            if grid[i][j] == 1:\n",
    "                if neighbors < 2 or neighbors > 3:\n",
    "                    new_grid[i][j] = 0\n",
    "                else:\n",
    "                    new_grid[i][j] = 1\n",
    "            else:\n",
    "                if neighbors == 3:\n",
    "                    new_grid[i][j] = 1\n",
    "    return new_grid"
   ]
  },
  {
   "cell_type": "code",
   "execution_count": 4,
   "metadata": {},
   "outputs": [],
   "source": [
    "#| export\n",
    "def Grid():\n",
    "    cells = []\n",
    "    for y, row in enumerate(grid):\n",
    "        for x, cell in enumerate(row):\n",
    "            cell_class = 'alive' if cell else 'dead'\n",
    "            cell = Div(cls=f'cell {cell_class}', hx_post='/update', hx_vals={'x': x, 'y': y}, hx_swap='innerHTML', hx_target='#gol', hx_trigger='click')\n",
    "            cells.append(cell)\n",
    "    \n",
    "    return Div(*cells, id='grid')"
   ]
  },
  {
   "cell_type": "code",
   "execution_count": 5,
   "metadata": {},
   "outputs": [],
   "source": [
    "#| export\n",
    "def Home():\n",
    "    # grid = Grid()\n",
    "    gol = Div(id='gol', hx_trigger=\"load, every 1s\", hx_get=\"/poll\", hx_swap=\"innerHTML\", cls='row center-xs', hx_target='#gol')\n",
    "    run_btn = Button('Run', id='run', cls='col-xs-2', hx_post='/run', hx_target='#gol', hx_swap='innerHTML')\n",
    "    pause_btn = Button('Pause', id='pause', cls='col-xs-2', hx_post='/pause', hx_target='#gol', hx_swap='innerHTML')\n",
    "    reset_btn = Button('Reset', id='reset', cls='col-xs-2', hx_post='/reset', hx_target='#gol', hx_swap='innerHTML')\n",
    "\n",
    "    return (\n",
    "        Title('Game of Life'), Main(\n",
    "            gol, Div(\n",
    "                run_btn, pause_btn, reset_btn, cls='row center-xs'\n",
    "            ),\n",
    "        )\n",
    "    )"
   ]
  },
  {
   "cell_type": "code",
   "execution_count": 6,
   "metadata": {},
   "outputs": [
    {
     "data": {
      "text/html": [
       "<title>\n",
       "Game of Life\n",
       "</title>\n",
       "\n",
       "<main>\n",
       "  <div children=\"[]\" id=\"grid\" class=\"row center-xs\"></div>\n",
       "  <div class=\"row center-xs\">\n",
       "    <button hx-post=\"/run\" hx-target=\"#grid\" id=\"run\" class=\"col-xs-2\" name=\"run\">\n",
       "Run\n",
       "    </button>\n",
       "    <button hx-post=\"/pause\" hx-target=\"#grid\" id=\"pause\" class=\"col-xs-2\" name=\"pause\">\n",
       "Pause\n",
       "    </button>\n",
       "    <button hx-post=\"/reset\" hx-target=\"#grid\" id=\"reset\" class=\"col-xs-2\" name=\"reset\">\n",
       "Reset\n",
       "    </button>\n",
       "  </div>\n",
       "</main>\n"
      ],
      "text/plain": [
       "<IPython.core.display.HTML object>"
      ]
     },
     "execution_count": 6,
     "metadata": {},
     "output_type": "execute_result"
    }
   ],
   "source": [
    "show(Home())"
   ]
  },
  {
   "cell_type": "code",
   "execution_count": 7,
   "metadata": {},
   "outputs": [],
   "source": [
    "#| export\n",
    "@rt('/')\n",
    "def get():\n",
    "    return Home()"
   ]
  },
  {
   "cell_type": "code",
   "execution_count": null,
   "metadata": {},
   "outputs": [],
   "source": [
    "#| export\n",
    "@rt('/poll')\n",
    "def get():\n",
    "    global running, grid\n",
    "    if running:\n",
    "        grid = update_grid(grid)\n",
    "    return Grid()"
   ]
  },
  {
   "cell_type": "code",
   "execution_count": null,
   "metadata": {},
   "outputs": [],
   "source": [
    "#| export\n",
    "@rt('/update')\n",
    "async def post(x: int, y: int):\n",
    "    global grid\n",
    "    grid[y][x] = 1 if grid[y][x] == 0 else 0\n",
    "    return Grid()"
   ]
  },
  {
   "cell_type": "code",
   "execution_count": null,
   "metadata": {},
   "outputs": [],
   "source": [
    "#| export\n",
    "running = False\n",
    "@rt('/run')\n",
    "async def post():\n",
    "    global running\n",
    "    running = True\n",
    "    return Grid()"
   ]
  },
  {
   "cell_type": "code",
   "execution_count": null,
   "metadata": {},
   "outputs": [],
   "source": [
    "#| export\n",
    "@rt(\"/reset\")\n",
    "async def post():\n",
    "    global grid, running\n",
    "    grid = [[0 for _ in range(20)] for _ in range(20)]\n",
    "    running = False\n",
    "    return Grid()"
   ]
  },
  {
   "cell_type": "code",
   "execution_count": null,
   "metadata": {},
   "outputs": [],
   "source": [
    "#| export\n",
    "@rt('/pause')\n",
    "async def post():\n",
    "    global running\n",
    "    running = False\n",
    "    return Grid()"
   ]
  },
  {
   "cell_type": "code",
   "execution_count": 14,
   "metadata": {},
   "outputs": [],
   "source": [
    "#| eval: false\n",
    "#| hide\n",
    "from nbdev.export import nb_export\n",
    "nb_export('game_of_life.ipynb', '.')"
   ]
  },
  {
   "cell_type": "code",
   "execution_count": null,
   "metadata": {},
   "outputs": [],
   "source": []
  }
 ],
 "metadata": {
  "kernelspec": {
   "display_name": ".venv",
   "language": "python",
   "name": "python3"
  },
  "language_info": {
   "codemirror_mode": {
    "name": "ipython",
    "version": 3
   },
   "file_extension": ".py",
   "mimetype": "text/x-python",
   "name": "python",
   "nbconvert_exporter": "python",
   "pygments_lexer": "ipython3",
   "version": "3.10.13"
  }
 },
 "nbformat": 4,
 "nbformat_minor": 2
}
