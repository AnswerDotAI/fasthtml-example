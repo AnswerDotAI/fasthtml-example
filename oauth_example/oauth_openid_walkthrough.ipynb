{
 "cells": [
  {
   "cell_type": "markdown",
   "id": "06e8ed48",
   "metadata": {},
   "source": [
    "# FastHTML OpenID walkthrough"
   ]
  },
  {
   "cell_type": "markdown",
   "id": "91ae5dd4",
   "metadata": {},
   "source": [
    "This notebook illustrates using OAuth/OpenID in FastHTML, by using the library to follow Google's own [OpenID Connect](https://developers.google.com/identity/openid-connect/openid-connect#re-consent) guide. It therefore sits at an explanatory point in between short instructions to just get it working, and a deeper explanation of OAuth in general.\n",
    "\n",
    "If you're looking for quick instructoons to get up and running, check out [FastHTML oauth explainer docs](https://fastht.ml/docs/explains/oauth.html). Or if you want deeper background resources, check out the pages [What is OAuth2](https://www.romaglushko.com/blog/whats-aouth2/#clients) and of course the [OAuth2 spec](https://datatracker.ietf.org/doc/html/rfc6749#section-2).\n",
    "\n",
    "But if you want something in between, here we go!"
   ]
  },
  {
   "cell_type": "markdown",
   "id": "52352818",
   "metadata": {},
   "source": [
    "### Authentication, OpenID, and OAuth\n",
    "\n",
    "You might wonder, why are we talking about OpenID rather than OAuth? Or vice versa?\n",
    "\n",
    "OpenID provides authentication. But it's built on the more general foundation of OAuth, so to use it you end up using OAuth configuration pages, libraries, and jargon. This creates enough moving pieces that, if you want to understand OpenID, you need to bite the bullet and learn the OAuth lingo. In particular, OAuth describes four roles:\n",
    "\n",
    "- the Resource Owner (aka, the end-user).\n",
    "   This will be a person who wants to login to our web app.\n",
    "   \n",
    "- the Client Application.\n",
    "  This will be our web app, which will be implemented by `server.py`.\n",
    "  \n",
    "- the Authorization Server.\n",
    "  This will be a server which dispenses _authorization codes_, _refresh tokens_, and _access tokens_. In this example, it will be Google's servers.\n",
    "  \n",
    "- the Resource Server.\n",
    "  This will be a server which provides access to _resources_, when it is given an appropriate _access token_.  In this example this will also be Google's servers.\n",
    "\n",
    "In this example, we are not accessing a _material resource_ like a Google Doc. We are only using Google as an identity provider, to enable users to login with their gmail account. So in this case, the resource is user identity information, such as a numerical Google Account ID, but also possibly other profile information like the user's name and email address.\n",
    "\n",
    "This is the miminal use of OAuth which is at work whenever you use Google just for login (\"Sign-in with Google\"). This use of OAuth is what is described and refined by OpenID Connect. This is why, although we are only using Google for login (with OpenID), we get stated by setting up OAuth configurations."
   ]
  },
  {
   "cell_type": "markdown",
   "id": "1eb19336",
   "metadata": {},
   "source": [
    "## Configuring your app's Google Cloud OAuth configurations\n",
    "\n",
    "First you need to configure a few settings in Google Cloud Console (GCC), so that Google and your app can coordinate.\n",
    "\n",
    "Once you're at the GCC page for your app, these are the main settings you need to configure. (Real talk: this is the most annoying part of the process.)\n",
    "\n",
    "### 1. Application type, and other settings\n",
    "\n",
    "First, define your application type as as a \"Web Application\". (OAuth works a bit differently for other application types, which we will not discuss here.)\n",
    "\n",
    "There are also settings for a [user consent screen](https://developers.google.com/identity/openid-connect/openid-connect#re-consent), which you may ignore for now.\n",
    "\n",
    "\n",
    "### 2. Authorized Redirect URI\n",
    "\n",
    "Second, on the GCC (Google Cloud Console) page, look for the section titled \"Authorized Redirect URIs\" and for now enter the following value (take note that it is `http` not `https`!): `http://localhost:5001/redirect`.\n",
    "\n",
    "We will explain the meaning of this value later when we show what it is for.\n",
    "\n",
    "### 3. ClientID and Client Secret\n",
    "\n",
    "Finally, we need get your application's ID. For your app (the Client) to use OAuth2 to access Google identity server (the Authorization Server), your app needs to declare and prove who it is to Google.. In other words, your app, the Client, needs to be able to authenticate _itself_ to Google.\n",
    "\n",
    "In a webapp, this is done by coordinating on a shared secret ahead of time -- the _Client ID_ and the _Client secret_. The client ID says who the app is, the client secret proves it. It is essentially your app's own password to Google.\n",
    "\n",
    "After clicking the down arrow to download the credits you will see a modal dialog saying \"OAuth client created\", and showing your Client ID and Client secret, and saving them to a json file. Rename that file to `creds.json`: "
   ]
  },
  {
   "cell_type": "markdown",
   "id": "50beabf1",
   "metadata": {},
   "source": [
    "## Implementing your server\n",
    "\n",
    "Now let us build an oauth2 Client with fasthtml. It is an OAuth Client since it is a client of Google's authorization servers. But it is still a web server to browser requests, so we will call it `server.py`.\n",
    "\n",
    "We will follow the steps of the [Google guidance](https://developers.google.com/identity/openid-connect/openid-connect#re-consent), but using FastHTML and explaining details more fully.\n",
    "\n",
    "First, create `server.py`, and import `fasthtml`, `fastlite` (to store our user database), and the `GoogleAppClient` class. This last class represents our app as the client for interacting with Google. When we create the Google AppClient, we give it our app's own credentials so it can authenticate itself (i.e., login) to Google's servers"
   ]
  },
  {
   "cell_type": "code",
   "execution_count": null,
   "id": "a5a269e8",
   "metadata": {},
   "outputs": [],
   "source": [
    "#|export\n",
    "from fasthtml.common import *\n",
    "from fasthtml.oauth import GoogleAppClient, redir_url\n",
    "from fastlite import *\n",
    "\n",
    "cli = GoogleAppClient.from_file('creds.json')\n",
    "# creds.json should be downloaded directly from Google Cloud Console,\n",
    "# with a name like client_secret_LONGCODE.apps.googleusercontent.com.json"
   ]
  },
  {
   "cell_type": "markdown",
   "id": "8c043eff-a1f6-43de-8b80-3a821ae3ff49",
   "metadata": {},
   "source": [
    "#### Creating an Authorization Link\n",
    "\n",
    "Suppose an end-user wants to login to your app using their Google account.\n",
    "\n",
    "To do this, they'll click your app's \"sign-in with Google\" link, an authorization link. This link will send the user to a Google page, where Google will ask them if they'd like to login to use your app.\n",
    "\n",
    "(In OAuth terms, this is the end-user delegating to your app the authority to know their Google account ID. Or it can be thought of as asking Google to attest that a user exists with a stable account ID.)\n",
    "\n",
    "We need to create that authorization link. The link needs to pack in a few obvious pieces of information to tell Google:\n",
    "\n",
    "1. that the user is coming from your app (so it needs your Client ID),\n",
    "2. what permissions your app is asking for (so it needs the so-called \"scope\"),\n",
    "3. where Google should send the resulting permissions (so it needs your app's _authorized redirect URL_, where Google will send its reply indirectly by redirecting the user's browser).\n",
    "\n",
    "Finally, the link also needs a fourth, less obvious piece of information:\n",
    "\n",
    "4. an anti-CSRF token. This is a token you give Google, just so you can check it later, to ensure that any reply from Google is _actually a reply to your specific request_. This is to protect against an attacker who tricks a user with replies to his requests. This is known as a cross-site request forgery attack, so this last piece of information is known as the anti-CSRF token, which can be a random string.\n",
    "\n",
    "Putting all the pieces together you can generate the authorization link like so:"
   ]
  },
  {
   "cell_type": "code",
   "execution_count": null,
   "id": "78667031-7d0c-47d9-9381-89ecdc946dd4",
   "metadata": {},
   "outputs": [
    {
     "name": "stdout",
     "output_type": "stream",
     "text": [
      "https://accounts.google.com/o/oauth2/v2/auth?response_type=code&client_id=67965167765-qbufldjg7hd9q81o3m6g8he5ek036usi.apps.googleusercontent.com&redirect_uri=http%3A%2F%2Flocalhost%3A5001%2Fredirect&scope=openid+https%3A%2F%2Fwww.googleapis.com%2Fauth%2Fuserinfo.email&state=x5pwYgANxWvdkfOH0MWiKYPJr9l-UTKzUXLOJwzR5sZSKGJLJbJXiC73_ZGzzt6_MM_lZ6XJG0iC9Keg9QDNPQ\n"
     ]
    }
   ],
   "source": [
    "import secrets\n",
    "\n",
    "csrf_state_token = secrets.token_urlsafe(64)\n",
    "redirect_uri=\"http://localhost:5001/redirect\"\n",
    "scope=['openid',                                           # for sub (the user ID) and picture\n",
    "       'https://www.googleapis.com/auth/userinfo.email',   # for hd, email, email_verified\n",
    "       'https://www.googleapis.com/auth/userinfo.profile'  # for name, family_name, given_name\n",
    "      ]\n",
    "print(cli.login_link(redirect_uri,scope=scope, state=csrf_state_token))"
   ]
  },
  {
   "cell_type": "markdown",
   "id": "550b5471-bbb4-49a5-8124-6c0db56e116c",
   "metadata": {},
   "source": [
    "#### Sending an authorization request to Google\n",
    "\n",
    "Follow the above sign-in link, by **copying it into your pasteboard and opening in an incognito window**.\n",
    "\n",
    "This is just as if you had clicked a \"Sign-in to Google\" button. We use an incognito window to ensure that Google generates a _fresh_ authorization code rather than redirecting you with an expended and nonfunctioning code.\n",
    "\n",
    "The first time you click this sign-in link, this will take you to a Google login page. After logging in, Google will redirect your browser to the redirect URL, which will be the redirect URI we provided when preparing the link, plus additional query parameters. The second time you click this sign-in link, Google will redirect you immediately.\n",
    "\n",
    "That redirect URL is the means by which Google's authorization server sends information back in reply, such as the authorizaiton code and the echo of the anti-csrf state token which you included with the original request. That information is what's in the additional query parameters.\n",
    "\n",
    "**Copy the redirect URL from your browser's navigation bar**, so we can process it manually, as if we were already hosting a server at that URL's path which would receive the request and process it.\n"
   ]
  },
  {
   "cell_type": "markdown",
   "id": "0ff9eb1c-4663-4af4-92a4-c9e78b185699",
   "metadata": {},
   "source": [
    "**Paste the redirect URI copied from your nav bar into the definition below**:"
   ]
  },
  {
   "cell_type": "code",
   "execution_count": null,
   "id": "afe8e23b-bdcd-4092-b3ae-5cc10b283efa",
   "metadata": {},
   "outputs": [
    {
     "data": {
      "text/plain": [
       "'http://localhost:5001/redirect?state=x5pwYgANxWvdkfOH0MWiKYPJr9l-UTKzUXLOJwzR5sZSKGJLJbJXiC73_ZGzzt6_MM_lZ6XJG0iC9Keg9QDNPQ&code=4%2F0Ab_5qllMspx79AyPdr6tx9-i4xPY01qpl-d91_jLHcOoeqjkVTlL9XRFTWMKRvNw_IR9iA&scope=email+https%3A%2F%2Fwww.googleapis.com%2Fauth%2Fuserinfo.email+openid&authuser=0&hd=answer.ai&prompt=consent'"
      ]
     },
     "execution_count": null,
     "metadata": {},
     "output_type": "execute_result"
    }
   ],
   "source": [
    "captured_redirect_URL = \"http://localhost:5001/redirect?state=x5pwYgANxWvdkfOH0MWiKYPJr9l-UTKzUXLOJwzR5sZSKGJLJbJXiC73_ZGzzt6_MM_lZ6XJG0iC9Keg9QDNPQ&code=4%2F0Ab_5qllMspx79AyPdr6tx9-i4xPY01qpl-d91_jLHcOoeqjkVTlL9XRFTWMKRvNw_IR9iA&scope=email+https%3A%2F%2Fwww.googleapis.com%2Fauth%2Fuserinfo.email+openid&authuser=0&hd=answer.ai&prompt=consent\"\n",
    "captured_redirect_URL"
   ]
  },
  {
   "cell_type": "markdown",
   "id": "acc98df4-92fd-4cb2-a0c6-de5820799023",
   "metadata": {},
   "source": [
    "E.g., you should see something like: `http://localhost:5001/redirect?\n",
    " state=bmHlmaseHq_tyg4NnrM-3DHjmzzuad4nFSPl2c0GDFTjnTU9J-5wmWyOKBXS5G7cFUCNpYvfH-k8ZVmTQdqPGw\n",
    " &code=4%2F0Ab_5qlnrdI79TvSK4ik8lbhrnG1aQrMl6c9ktt0B9vxquClmmegSZhrwhLKDPjDWdU6LKQ\n",
    "&scope=email+profile+https%3A%2F%2Fwww.googleapis.com%2Fauth%2Fuserinfo.profile+https%3A%2F%2Fwww.googleapis.com%2Fauth%2Fuserinfo.email+openid\n",
    " &authuser=0\n",
    " &hd=answer.ai\n",
    " &prompt=consent`"
   ]
  },
  {
   "cell_type": "markdown",
   "id": "fb7f49f5-6441-44ea-a65f-a0d40f1bba4d",
   "metadata": {},
   "source": [
    "#### Confirming the anti-forgery state token\n",
    "\n",
    "Now, let's get the authorization code and state from the redirect URL. When we handle this with a route, we will parse the code from the URL query parameters.  For now, we will parse the redirected URL manually."
   ]
  },
  {
   "cell_type": "code",
   "execution_count": null,
   "id": "31d3dcaf-8db2-4b06-be4d-6b046873033b",
   "metadata": {},
   "outputs": [
    {
     "name": "stdout",
     "output_type": "stream",
     "text": [
      "captured_code='4/0Ab_5qllMspx79AyPdr6tx9-i4xPY01qpl-d91_jLHcOoeqjkVTlL9XRFTWMKRvNw_IR9iA'\n",
      "captured_state='x5pwYgANxWvdkfOH0MWiKYPJr9l-UTKzUXLOJwzR5sZSKGJLJbJXiC73_ZGzzt6_MM_lZ6XJG0iC9Keg9QDNPQ'\n"
     ]
    }
   ],
   "source": [
    "from urllib.parse import urlparse, parse_qs\n",
    "\n",
    "def get_code_and_state(url):\n",
    "    parsed_url = urlparse(url)\n",
    "    query_params = parse_qs(parsed_url.query)\n",
    "    captured_code = query_params.get('code', [None])[0]\n",
    "    captured_state = query_params.get('state', [None])[0]\n",
    "    return (captured_code,captured_state)\n",
    "\n",
    "(captured_code,captured_state) = get_code_and_state(captured_redirect_URL)\n",
    "\n",
    "print(f\"{captured_code=}\")\n",
    "print(f\"{captured_state=}\")\n"
   ]
  },
  {
   "cell_type": "markdown",
   "id": "7e564e40-fdee-4603-8e5e-711373ae74ce",
   "metadata": {},
   "source": [
    "You should verify that the captured state matches the state you passed in:"
   ]
  },
  {
   "cell_type": "code",
   "execution_count": null,
   "id": "e9230b1b-f1e1-42d3-b426-3a914ac795b7",
   "metadata": {},
   "outputs": [],
   "source": [
    "assert csrf_state_token == captured_state"
   ]
  },
  {
   "cell_type": "markdown",
   "id": "443e9d10-7fcf-40dc-a014-4260bd72e530",
   "metadata": {},
   "source": [
    "This confirms no one is CSRF attacking you!"
   ]
  },
  {
   "cell_type": "markdown",
   "id": "bcfe29da-91c6-49c0-bb8e-97f3630cc163",
   "metadata": {},
   "source": [
    "#### Exchanging the authorization `code` for access token and user ID"
   ]
  },
  {
   "cell_type": "markdown",
   "id": "91e59dba-bc6f-4c37-b078-fe6549b7551e",
   "metadata": {},
   "source": [
    "The point of the authorization code is to authorize. \n",
    "\n",
    "In particular, you use the authorization code only once, in order to get access to other items, such as an access token (for accessing protected resources) and possibly a refresh token (for getting subsequent acccess tokens).\n",
    "\n",
    "Let's use our new authorization code to get an access token now.\n",
    "\n",
    "To request the token, we will need the code and the redirect URL, stripped of query parameters and fragments: "
   ]
  },
  {
   "cell_type": "code",
   "execution_count": null,
   "id": "a4d2fe10-eade-4e2c-82a2-531647799221",
   "metadata": {},
   "outputs": [],
   "source": [
    "from urllib.parse import urlparse, parse_qs\n",
    "\n",
    "def strip_to_scheme_host_port_path(url):\n",
    "    parsed_url = urlparse(url)\n",
    "    u =  f\"{parsed_url.scheme}://{parsed_url.hostname}\"\n",
    "    if port := parsed_url.port: u += f\":{port}\"\n",
    "    u += f\"{parsed_url.path}\"\n",
    "    return u"
   ]
  },
  {
   "cell_type": "code",
   "execution_count": null,
   "id": "f6c4f9c6-1695-4884-9bd6-443f8ddba8c0",
   "metadata": {},
   "outputs": [
    {
     "data": {
      "text/plain": [
       "'http://localhost:5001/redirect'"
      ]
     },
     "execution_count": null,
     "metadata": {},
     "output_type": "execute_result"
    }
   ],
   "source": [
    "stripped_redirect_url = strip_to_scheme_host_port_path(captured_redirect_URL)\n",
    "stripped_redirect_url"
   ]
  },
  {
   "cell_type": "markdown",
   "id": "90b6a03f-8b3f-451d-be87-6bdd3d6d1576",
   "metadata": {},
   "source": [
    "#### Exchanging the `code` for access token and ID information, manually\n",
    "\n",
    "In this section, we'll exchange the code for ID information directly with plain HTTP, to show how the mechanism works. But if you just want to get the results with the FastHTML API, skip to the next section, _Exchanging the `code` for ID information, with FastHTML_."
   ]
  },
  {
   "cell_type": "markdown",
   "id": "03cf94b4-54d6-47d9-b9ee-c613cd7344bc",
   "metadata": {},
   "source": [
    "This is the URL for the Google authorization server, where we will send the authorization code to get back an OAuth access token:"
   ]
  },
  {
   "cell_type": "code",
   "execution_count": null,
   "id": "944fa7c0-ce73-431d-8bb0-96cb37827286",
   "metadata": {},
   "outputs": [
    {
     "data": {
      "text/plain": [
       "'https://oauth2.googleapis.com/token'"
      ]
     },
     "execution_count": null,
     "metadata": {},
     "output_type": "execute_result"
    }
   ],
   "source": [
    "cli.token_url"
   ]
  },
  {
   "cell_type": "markdown",
   "id": "d7e37d5b-bc08-4e59-b4cc-ab980f2203c6",
   "metadata": {},
   "source": [
    "Now we build the payload of our request for an access token, using our auth code, our client credentials, and our redirect URL:"
   ]
  },
  {
   "cell_type": "code",
   "execution_count": null,
   "id": "167b439d-e8ed-4c67-bc90-1b21657fb052",
   "metadata": {},
   "outputs": [],
   "source": [
    "payload = dict(code=captured_code,\n",
    "               redirect_uri=stripped_redirect_url, \n",
    "               client_id=cli.client_id, client_secret=cli.client_secret, \n",
    "               grant_type='authorization_code')\n",
    "payload"
   ]
  },
  {
   "cell_type": "markdown",
   "id": "c4479af0-b69c-4eaa-9f07-5c9c7adef1ac",
   "metadata": {},
   "source": [
    "Let us launch the request and inspect the response"
   ]
  },
  {
   "cell_type": "code",
   "execution_count": null,
   "id": "2d486aa2-5870-4c80-a8a3-fb7deafde65d",
   "metadata": {},
   "outputs": [
    {
     "data": {
      "text/plain": [
       "<Response [200 OK]>"
      ]
     },
     "execution_count": null,
     "metadata": {},
     "output_type": "execute_result"
    }
   ],
   "source": [
    "import httpx\n",
    "res = httpx.post(cli.token_url, json=payload)\n",
    "res"
   ]
  },
  {
   "cell_type": "code",
   "execution_count": null,
   "id": "0b62c5c6-69fb-4c2b-a17d-48449c995066",
   "metadata": {},
   "outputs": [
    {
     "data": {
      "text/plain": [
       "dict_keys(['access_token', 'expires_in', 'scope', 'token_type', 'id_token'])"
      ]
     },
     "execution_count": null,
     "metadata": {},
     "output_type": "execute_result"
    }
   ],
   "source": [
    "import json\n",
    "json.loads(res.content).keys()"
   ]
  },
  {
   "cell_type": "markdown",
   "id": "6571fd57-202f-4aa9-aa45-5f921eda18f0",
   "metadata": {},
   "source": [
    "The top-level keys include an oauth \"access token\", which we will use to make a follow-up request for the user information from the Google's URL for OpenID user information:"
   ]
  },
  {
   "cell_type": "code",
   "execution_count": null,
   "id": "b09fecbe-9866-4039-baec-3181ecf18bef",
   "metadata": {},
   "outputs": [
    {
     "data": {
      "text/plain": [
       "'https://openidconnect.googleapis.com/v1/userinfo'"
      ]
     },
     "execution_count": null,
     "metadata": {},
     "output_type": "execute_result"
    }
   ],
   "source": [
    "goog_info_url = cli.info_url\n",
    "goog_info_url"
   ]
  },
  {
   "cell_type": "code",
   "execution_count": null,
   "id": "bebb4eae-53c3-4411-8b55-f55cc31b1742",
   "metadata": {},
   "outputs": [],
   "source": [
    "access_token = json.loads(res.content)['access_token']\n",
    "access_token"
   ]
  },
  {
   "cell_type": "code",
   "execution_count": null,
   "id": "a501089f-59b6-4c20-93cb-5dc7f13b73ca",
   "metadata": {},
   "outputs": [
    {
     "data": {
      "text/plain": [
       "{'sub': '107642229056099864018',\n",
       " 'picture': 'https://lh3.googleusercontent.com/a-/ALV-UjWgEkn5Ft5CN9LguAKv3tjwAV-s7X33jUmNNccScQGw9KDV3Q=s96-c',\n",
       " 'email': 'ag@answer.ai',\n",
       " 'email_verified': True,\n",
       " 'hd': 'answer.ai'}"
      ]
     },
     "execution_count": null,
     "metadata": {},
     "output_type": "execute_result"
    }
   ],
   "source": [
    "user_info = httpx.get(goog_info_url, \n",
    "                      headers={'Authorization': f'Bearer {access_token}'}).json()\n",
    "user_info"
   ]
  },
  {
   "cell_type": "markdown",
   "id": "f4ab71de-9a05-4aed-8197-b798c005189f",
   "metadata": {},
   "source": [
    "The most important value is under `sub`, which is short for \"subject\". This is Google's stable ID for the user. `hd` is a special Google key, indicating which hosted domain (i.e., which Google Cloud organization) the email address belongs to.\n",
    "\n",
    "This is what we sought. We can now use this value to load and save info from our user database, from our session database, etc.."
   ]
  },
  {
   "cell_type": "markdown",
   "id": "c8c906b7-218b-485d-8368-533cac848fe6",
   "metadata": {},
   "source": [
    "##### Sidebar: why an \"id token\"? why not a refresh token?\n",
    "\n",
    "We got the access token from the response and used it to get user information like their ID (their `sub`) in a follow-up request. This is the classic oauth flow, where you exchange an authorization code for an access token and a refresh token, and then use the access token to access resources.\n",
    "\n",
    "However, you might have noticed a few oddities. The original response also included an \"id token\" and omitted any refresh tokens. Why?\n",
    "\n",
    "The reason for this is because we're not using just OAuth but OpenID, since we requested the 'openid' scope and chose Google's OpenID endpoint. The id token is an OpenID-defined value, a JWT which in fact includes the `sub`, the `hd`, and other values in our initial reply. So we didn't strictly need to use the access token for a follow up request to get those values. We did it to conform to the same flow which we would use for _other_ kinds of grants, like access to mutable resources like an API or a document.\n",
    "\n",
    "This is also the reason we did not need and therefore did not request a refresh token. Refresh tokens are for refreshing access tokens, which expire fairly quickly. For instance, this one will expire in an hour, but that does not matter because we use it immediately to get an identifier, which is guaranteed to be accurate indefinitely.\n",
    "\n",
    "In other words, we get a token which gives us short-lived access to the user's ID. But the ID does not change. In our app, the lifetime of our login session will depend not on the lifetime of that access token, but on a separate session mechanism which the app implements, using the ID simply as an identifier.\n",
    "\n",
    "If you're curious, you can look inside the JWT ID token which we ignored, and see the familiar values and some other ones, whose meaning is defined by the [OpenID spec](https://openid.net/specs/openid-connect-core-1_0.html#IDToken)."
   ]
  },
  {
   "cell_type": "code",
   "execution_count": null,
   "id": "a4456ecc-7c79-446f-9bd2-8c25a52a66b1",
   "metadata": {},
   "outputs": [],
   "source": [
    "import base64, json, hmac, hashlib\n",
    "\n",
    "def decode_jwt(token, secret=None, verify=True):\n",
    "    \"\"\"\n",
    "    Decode and parse a JWT token.\n",
    "    \n",
    "    Args:\n",
    "        token (str): The JWT token to decode\n",
    "        secret (str, optional): Secret key for verification\n",
    "        verify (bool): Whether to verify the signature\n",
    "        \n",
    "    Returns:\n",
    "        dict: The decoded payload\n",
    "    \"\"\"\n",
    "    # Split the token into header, payload, and signature\n",
    "    parts = token.split('.')\n",
    "    if len(parts) != 3:\n",
    "        raise ValueError(\"Invalid token format\")\n",
    "    \n",
    "    header_b64, payload_b64, signature_b64 = parts\n",
    "    \n",
    "    # Decode header and payload\n",
    "    def decode_base64_url(b64string):\n",
    "        # Add padding if needed\n",
    "        padding = '=' * (4 - len(b64string) % 4)\n",
    "        b64string += padding\n",
    "        # Replace URL-safe characters\n",
    "        b64string = b64string.replace('-', '+').replace('_', '/')\n",
    "        return base64.b64decode(b64string)\n",
    "    \n",
    "    header_json = decode_base64_url(header_b64)\n",
    "    payload_json = decode_base64_url(payload_b64)\n",
    "    \n",
    "    header = json.loads(header_json)\n",
    "    payload = json.loads(payload_json)\n",
    "    \n",
    "    # Verify signature if requested and secret is provided\n",
    "    if verify and secret:\n",
    "        if 'alg' not in header:\n",
    "            raise ValueError(\"Algorithm not specified in header\")\n",
    "        \n",
    "        # Get the algorithm from the header\n",
    "        alg = header['alg']\n",
    "        \n",
    "        if alg == 'none':\n",
    "            # No verification needed\n",
    "            pass\n",
    "        elif alg == 'HS256':\n",
    "            # HMAC using SHA-256\n",
    "            message = f\"{header_b64}.{payload_b64}\"\n",
    "            signature = hmac.new(\n",
    "                secret.encode('utf-8'),\n",
    "                message.encode('utf-8'),\n",
    "                hashlib.sha256\n",
    "            ).digest()\n",
    "            computed_sig_b64 = base64.urlsafe_b64encode(signature).decode('utf-8').rstrip('=')\n",
    "            \n",
    "            # Remove padding from the original signature for comparison\n",
    "            signature_b64 = signature_b64.rstrip('=')\n",
    "            \n",
    "            if not hmac.compare_digest(signature_b64, computed_sig_b64):\n",
    "                raise ValueError(\"Invalid signature\")\n",
    "        else:\n",
    "            raise NotImplementedError(f\"Algorithm {alg} not implemented\")\n",
    "    \n",
    "    return {\n",
    "        'header': header,\n",
    "        'payload': payload\n",
    "    }\n"
   ]
  },
  {
   "cell_type": "code",
   "execution_count": null,
   "id": "b9f2d673-1101-42e3-84d1-c2cc9306d7ba",
   "metadata": {},
   "outputs": [
    {
     "data": {
      "text/plain": [
       "dict_keys(['iss', 'azp', 'aud', 'sub', 'hd', 'email', 'email_verified', 'at_hash', 'iat', 'exp'])"
      ]
     },
     "execution_count": null,
     "metadata": {},
     "output_type": "execute_result"
    }
   ],
   "source": [
    "decode_jwt(json.loads(res.content)['id_token'])['payload'].keys()"
   ]
  },
  {
   "cell_type": "markdown",
   "id": "9e2cac3c-1695-4e2a-ae95-41d263626924",
   "metadata": {},
   "source": [
    "#### Exchanging the `code` for ID information, with FastHTML\n"
   ]
  },
  {
   "cell_type": "markdown",
   "id": "1099d5fb-cea4-4633-995f-e1290cd8d5b3",
   "metadata": {},
   "source": [
    "This section will describe how to get the user ID information in exchange for an authorization code, using FastHTML rather than doing it manually.\n",
    "\n",
    "(Since authorization codes are single-use, you will need to get a fresh authorization code for this to work.)\n",
    "\n",
    "In FastHTML, you just call `retr_id`, passing in the code and the redirect url.\n",
    "\n",
    "under the hood, this gets the access token and then uses it to request the ID value directly."
   ]
  },
  {
   "cell_type": "code",
   "execution_count": null,
   "id": "fda3793d-3dba-43e9-bf66-0241f6676432",
   "metadata": {},
   "outputs": [
    {
     "data": {
      "text/plain": [
       "'107642229056099864018'"
      ]
     },
     "execution_count": null,
     "metadata": {},
     "output_type": "execute_result"
    }
   ],
   "source": [
    "ident = cli.retr_id(captured_code, stripped_redirect_url)\n",
    "ident"
   ]
  },
  {
   "cell_type": "markdown",
   "id": "6c287ed9-e872-4668-874d-24be37921b0d",
   "metadata": {},
   "source": [
    "After calling `retr_id`, we can get other granted information by using `get_info`:\n"
   ]
  },
  {
   "cell_type": "code",
   "execution_count": null,
   "id": "8c5d2998-0c36-4a5f-ab89-68a70b5eb3c1",
   "metadata": {},
   "outputs": [
    {
     "data": {
      "text/plain": [
       "{'sub': '107642229056099864018',\n",
       " 'name': 'Alexis Gallagher',\n",
       " 'given_name': 'Alexis',\n",
       " 'family_name': 'Gallagher',\n",
       " 'picture': 'https://lh3.googleusercontent.com/a/ACg8ocICRqrdeqJnMOmf_5_Mbkb6PXM9Hs9NJMY_9TMJSL20Ig2J9Q=s96-c',\n",
       " 'email': 'ag@answer.ai',\n",
       " 'email_verified': True,\n",
       " 'hd': 'answer.ai'}"
      ]
     },
     "execution_count": null,
     "metadata": {},
     "output_type": "execute_result"
    }
   ],
   "source": [
    "info = cli.get_info()\n",
    "info"
   ]
  },
  {
   "cell_type": "markdown",
   "id": "8e4335b1-1c06-4aac-9d91-991d299818bc",
   "metadata": {},
   "source": [
    "\n",
    "> Note: How to use fasthtml.oauth.\n",
    "\n",
    "Here are some key points to remember on how to use the functions in `fasthtml.oauth`:\n",
    "\n",
    "1. The `retr_info` and `retr_id` and `parse_response` functions form a family, such that any member of the family may only be called once. This is because they take the authorization code as an argument and expend it, so later calls will fail.\n",
    "2. The `get_info` function only works after you have called one of the functions above.\n",
    "3. The `get_info` function only works until the access token expires, performs no caching, and does not handle refreshing the access token. So you need to track its call history yourself.\n"
   ]
  },
  {
   "cell_type": "markdown",
   "id": "c93d19b8-4930-49e2-bc8f-0f9415fca011",
   "metadata": {},
   "source": [
    "### Implementing the flow with route handlers\n",
    "\n",
    "The above implements the entire authorization code flow manually. Now let us see how the same flow looks in a FastHTML app.\n",
    "\n",
    "There are two differences to keep in mind:\n",
    "\n",
    "First, obviously, in the above example, you manually copied and pasted the authorization URL into a browser to kick off the flow, and then manually copied and pasted the resulting redirect URL into the notebook for processing. In a web app, both those actions will be initiated by routes -- your app's _login route_ which presents the authorization URL for the user to sign-in with Google, and the _redirect route_, where the user receives the redirected browser.\n",
    "\n",
    "Second, more subtly, in the above example it sufficed to save the anti-csrf token in a global variable. This is because we manually handled parsing the redirect URI so we knew it came from us, and because the notebook acted like a single browser session.\n",
    "\n",
    "In a web app, which must handle many users at once, we will save the anti-csrf in the session dictionary. This binds the reply delivereed via the redirect URL with the initial request to the auth servers, ensuring that a user cannot be tricked into opening a redirect URI which was a reply to a request launched from a different browser, and therefore from a different user session.\n",
    "\n",
    "Taking all that into account, the complete flow looks like this:"
   ]
  },
  {
   "cell_type": "code",
   "execution_count": null,
   "id": "2c72358b-470a-40ab-9b28-4170b12a4763",
   "metadata": {},
   "outputs": [],
   "source": [
    "#|export\n",
    "from fasthtml.common import *\n",
    "from fasthtml.oauth import GoogleAppClient, redir_url\n",
    "from fastlite import *\n",
    "\n",
    "cli = GoogleAppClient.from_file('creds.json')\n",
    "# creds.json should be downloaded directly from Google Cloud Console,\n",
    "# with a name like client_secret_LONGCODE.apps.googleusercontent.com.json\n",
    "\n",
    "app,rt = fast_app()\n",
    "scope=['openid',\n",
    "       'https://www.googleapis.com/auth/userinfo.email', \n",
    "       'https://www.googleapis.com/auth/userinfo.profile']\n",
    "redirect_path=\"/redirect\"\n",
    "\n",
    "# when the user visits /login, they will be offered the link to sign-in with Google.\n",
    "@rt\n",
    "async def login(request, session):\n",
    "    # 1. we create the anticsrf token, and save it in the user's session\n",
    "    anti_csrf_token = secrets.token_urlsafe(64)\n",
    "    session['anti_csrf_token'] = anti_csrf_token\n",
    "    \n",
    "    # we build the redirect URL dynamically, to avoid hardcoding the hostname and port.\n",
    "    full_redirect_url = redir_url(request, redirect_path)\n",
    "    # 2. when the user clicks the login_link, they launch the authentication request to Google\n",
    "    return cli.login_link(full_redirect_url, scope=scope, state=csrf_state_token)        \n",
    "\n",
    "# The reply arrives thru this redirect path, which we configured Google to know about\n",
    "@rt \n",
    "async def redirect(request, session, code:str, state:str):\n",
    "    # 3. we verify the anticsrf token was the one expected, ensuring this reply was to our own request\n",
    "    if state != session['anti_csfr_token']:\n",
    "        return \"Login failed. CSRF token mismatch, suggesting a CSRF attack.\"\n",
    "    else:\n",
    "        # 4. We exchange the authorization code for an access token, and then for info\n",
    "        # Retrieving the id expends the auth code, but also retrieves an access token\n",
    "        ident = cli.retr_id(code, redir_url(request, redirect_path))\n",
    "        # 5. Once we have the access token, we can fetch the user info until the token expires\n",
    "        info = cli.get_info(code, redir_url(request, redirect_path))\n",
    "        print(f\"{ident=}\")\n",
    "        print(f\"{info=}\")\n",
    "        # 6. Here we'd use the IDENT value to lookup the user's records in our user db,\n",
    "        # or session db\n",
    "        \n"
   ]
  },
  {
   "cell_type": "code",
   "execution_count": null,
   "id": "08a6d4ed",
   "metadata": {},
   "outputs": [],
   "source": []
  }
 ],
 "metadata": {
  "kernelspec": {
   "display_name": "python3",
   "language": "python",
   "name": "python3"
  }
 },
 "nbformat": 4,
 "nbformat_minor": 5
}
